{
 "cells": [
  {
   "cell_type": "code",
   "execution_count": 28,
   "metadata": {},
   "outputs": [
    {
     "data": {
      "text/html": [
       "<div>\n",
       "<style scoped>\n",
       "    .dataframe tbody tr th:only-of-type {\n",
       "        vertical-align: middle;\n",
       "    }\n",
       "\n",
       "    .dataframe tbody tr th {\n",
       "        vertical-align: top;\n",
       "    }\n",
       "\n",
       "    .dataframe thead th {\n",
       "        text-align: right;\n",
       "    }\n",
       "</style>\n",
       "<table border=\"1\" class=\"dataframe\">\n",
       "  <thead>\n",
       "    <tr style=\"text-align: right;\">\n",
       "      <th></th>\n",
       "      <th>id</th>\n",
       "      <th>first_name</th>\n",
       "      <th>last_name</th>\n",
       "      <th>email</th>\n",
       "      <th>gender</th>\n",
       "      <th>city</th>\n",
       "    </tr>\n",
       "  </thead>\n",
       "  <tbody>\n",
       "    <tr>\n",
       "      <th>0</th>\n",
       "      <td>1</td>\n",
       "      <td>Ahmad</td>\n",
       "      <td>Lieb</td>\n",
       "      <td>alieb0@angelfire.com</td>\n",
       "      <td>Male</td>\n",
       "      <td>Falāvarjān</td>\n",
       "    </tr>\n",
       "    <tr>\n",
       "      <th>1</th>\n",
       "      <td>2</td>\n",
       "      <td>Shaylyn</td>\n",
       "      <td>Youings</td>\n",
       "      <td>syouings1@blogtalkradio.com</td>\n",
       "      <td>Bigender</td>\n",
       "      <td>Ananea</td>\n",
       "    </tr>\n",
       "    <tr>\n",
       "      <th>2</th>\n",
       "      <td>3</td>\n",
       "      <td>Ofilia</td>\n",
       "      <td>Middlemist</td>\n",
       "      <td>omiddlemist2@state.gov</td>\n",
       "      <td>Female</td>\n",
       "      <td>Baiyang</td>\n",
       "    </tr>\n",
       "    <tr>\n",
       "      <th>3</th>\n",
       "      <td>4</td>\n",
       "      <td>Dari</td>\n",
       "      <td>Wildbore</td>\n",
       "      <td>dwildbore3@usatoday.com</td>\n",
       "      <td>Female</td>\n",
       "      <td>Dawa-Dawa</td>\n",
       "    </tr>\n",
       "    <tr>\n",
       "      <th>4</th>\n",
       "      <td>5</td>\n",
       "      <td>Dulcine</td>\n",
       "      <td>Efford</td>\n",
       "      <td>defford4@dedecms.com</td>\n",
       "      <td>Female</td>\n",
       "      <td>Dongdajie</td>\n",
       "    </tr>\n",
       "  </tbody>\n",
       "</table>\n",
       "</div>"
      ],
      "text/plain": [
       "   id first_name   last_name                        email    gender  \\\n",
       "0   1      Ahmad        Lieb         alieb0@angelfire.com      Male   \n",
       "1   2    Shaylyn     Youings  syouings1@blogtalkradio.com  Bigender   \n",
       "2   3     Ofilia  Middlemist       omiddlemist2@state.gov    Female   \n",
       "3   4       Dari    Wildbore      dwildbore3@usatoday.com    Female   \n",
       "4   5    Dulcine      Efford         defford4@dedecms.com    Female   \n",
       "\n",
       "         city  \n",
       "0  Falāvarjān  \n",
       "1      Ananea  \n",
       "2     Baiyang  \n",
       "3   Dawa-Dawa  \n",
       "4   Dongdajie  "
      ]
     },
     "execution_count": 28,
     "metadata": {},
     "output_type": "execute_result"
    }
   ],
   "source": [
    "import pandas as pd\n",
    "import numpy as np\n",
    "from pathlib import Path\n",
    "\n",
    "\n",
    "# load the clean books data into a dataframe and show the first few rows\n",
    "data_path = Path('assests/MOCK_DATA.csv')\n",
    "mock_df = pd.read_csv(data_path)\n",
    "mock_df.head()\n",
    "\n"
   ]
  },
  {
   "cell_type": "code",
   "execution_count": 29,
   "metadata": {},
   "outputs": [],
   "source": [
    "x = mock_df.groupby('gender').size()"
   ]
  },
  {
   "cell_type": "code",
   "execution_count": 30,
   "metadata": {},
   "outputs": [
    {
     "data": {
      "text/plain": [
       "array(['Male', 'Bigender', 'Female', 'Polygender', 'Genderqueer',\n",
       "       'Genderfluid', 'Agender', 'Non-binary'], dtype=object)"
      ]
     },
     "execution_count": 30,
     "metadata": {},
     "output_type": "execute_result"
    }
   ],
   "source": [
    "mock_df['gender'].unique()"
   ]
  },
  {
   "cell_type": "code",
   "execution_count": 31,
   "metadata": {},
   "outputs": [
    {
     "data": {
      "text/plain": [
       "<Axes: xlabel='gender'>"
      ]
     },
     "execution_count": 31,
     "metadata": {},
     "output_type": "execute_result"
    },
    {
     "data": {
      "image/png": "[encoded data removed]",
      "text/plain": [
       "<Figure size 640x480 with 1 Axes>"
      ]
     },
     "metadata": {},
     "output_type": "display_data"
    }
   ],
   "source": [
    "x.plot(kind= 'bar')"
   ]
  }
 ],
 "metadata": {
  "kernelspec": {
   "display_name": "Python 3",
   "language": "python",
   "name": "python3"
  },
  "language_info": {
   "codemirror_mode": {
    "name": "ipython",
    "version": 3
   },
   "file_extension": ".py",
   "mimetype": "text/x-python",
   "name": "python",
   "nbconvert_exporter": "python",
   "pygments_lexer": "ipython3",
   "version": "3.10.10"
  },
  "orig_nbformat": 4
 },
 "nbformat": 4,
 "nbformat_minor": 2
}
